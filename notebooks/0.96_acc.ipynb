{
  "cells": [
    {
      "cell_type": "markdown",
      "metadata": {
        "id": "OqNDta-xZ2u4"
      },
      "source": [
        "# Funghi Classification v3\n"
      ]
    },
    {
      "cell_type": "markdown",
      "metadata": {
        "id": "794MTjou0CbX"
      },
      "source": [
        "Usefull imports, try to keep all of them here and labeled!"
      ]
    },
    {
      "cell_type": "code",
      "source": [
        "''' Linear Algebra'''\n",
        "import pandas as pd\n",
        "import numpy as np\n",
        "\n",
        "''' Data visualization'''\n",
        "import matplotlib.pyplot as plt \n",
        "import seaborn as sns\n",
        "import warnings\n",
        "\n",
        "''' Scikit-Learn'''\n",
        "from sklearn.model_selection import train_test_split\n",
        "from sklearn.preprocessing import StandardScaler, RobustScaler\n",
        "from sklearn.metrics import confusion_matrix\n",
        "\n",
        "''' Imbalanced Classes'''\n",
        "import imblearn\n",
        "from imblearn.over_sampling import SMOTE\n",
        "from imblearn.under_sampling import RandomUnderSampler\n",
        "from imblearn.pipeline import Pipeline\n",
        "\n",
        "''' Tensorflow Keras'''\n",
        "from tensorflow import keras\n",
        "from tensorflow.keras import models\n",
        "from tensorflow.keras import layers\n",
        "from tensorflow.keras.callbacks import EarlyStopping\n",
        "from tensorflow.keras import regularizers\n",
        "from tensorflow.keras.optimizers import Adam\n",
        "from tensorflow.keras import Sequential\n",
        "from tensorflow.keras.optimizers.schedules import ExponentialDecay\n",
        "from tensorflow.keras.utils import to_categorical\n",
        "from tensorflow.keras.preprocessing.image import ImageDataGenerator\n",
        "from tensorflow.keras.applications.vgg16 import VGG16\n",
        "from tensorflow.keras import optimizers\n",
        "from tensorflow.keras.applications.vgg16 import preprocess_input\n",
        "\n",
        "\n",
        "'''Image loading I believe'''\n",
        "from tqdm import tqdm\n",
        "from PIL import Image"
      ],
      "metadata": {
        "id": "7EvoG7FKCOSY"
      },
      "execution_count": 1,
      "outputs": []
    },
    {
      "cell_type": "markdown",
      "metadata": {
        "id": "7YfeVhhBZ2vC"
      },
      "source": [
        "Don't forget to enable GPU acceleration!\n",
        "\n",
        "`Runtime` $\\rightarrow$ `Change runtime type` $\\rightarrow$ `Hardware accelerator` $\\rightarrow$ `GPU`"
      ]
    },
    {
      "cell_type": "markdown",
      "metadata": {
        "id": "FoRPmZtQZ2vE"
      },
      "source": [
        "Mount your google drive!"
      ]
    },
    {
      "cell_type": "code",
      "execution_count": 2,
      "metadata": {
        "id": "_q8uOTzh5vwJ",
        "colab": {
          "base_uri": "https://localhost:8080/"
        },
        "outputId": "e627d1e6-b24b-4811-aa5e-61cec5084365"
      },
      "outputs": [
        {
          "output_type": "stream",
          "name": "stdout",
          "text": [
            "Drive already mounted at /content/drive; to attempt to forcibly remount, call drive.mount(\"/content/drive\", force_remount=True).\n"
          ]
        }
      ],
      "source": [
        "# Mount GDrive\n",
        "from google.colab import drive\n",
        "drive.mount('/content/drive')\n",
        "# Put Colab in the context of this challenge\n",
        "import os\n",
        "# os.chdir allows you to change directories, like cd in the Terminal\n",
        "my_drive_path=\"/Colab Notebooks/data-transfer-learning\"  #Change accordingly to the path of your project folder\n",
        "os.chdir('/content/drive/MyDrive'+my_drive_path) "
      ]
    },
    {
      "cell_type": "markdown",
      "metadata": {
        "id": "zsdd1Jv7Z2vJ"
      },
      "source": [
        "## (1) Dataset Loading"
      ]
    },
    {
      "cell_type": "code",
      "source": [
        "\n",
        "!pwd #Check path of your mounted drive"
      ],
      "metadata": {
        "id": "4OjINDUDxcjR",
        "colab": {
          "base_uri": "https://localhost:8080/"
        },
        "outputId": "a5da8241-d9ef-4080-8c83-0d546ab9c20b"
      },
      "execution_count": 3,
      "outputs": [
        {
          "output_type": "stream",
          "name": "stdout",
          "text": [
            "/content/drive/MyDrive/Colab Notebooks/data-transfer-learning\n"
          ]
        }
      ]
    },
    {
      "cell_type": "code",
      "source": [
        "!ls #List the contents of the directory you are in"
      ],
      "metadata": {
        "id": "pTxs7-6px4QT",
        "colab": {
          "base_uri": "https://localhost:8080/"
        },
        "outputId": "7a4962b8-1fa2-4eb6-f50d-e971d1289b2e"
      },
      "execution_count": 4,
      "outputs": [
        {
          "output_type": "stream",
          "name": "stdout",
          "text": [
            " AGAR_examples_200_per_class   flowers\t\t       funghi\n",
            " cell_ID_test\t\t       flowers-dataset.zip     README.md\n",
            "'Confusion matrix.png'\t       flowers-dataset.zip.1   transfer_learning.ipynb\n"
          ]
        }
      ]
    },
    {
      "cell_type": "code",
      "source": [
        "def load_data(classes_input, data_path_input):\n",
        "\n",
        "    data_path =data_path_input \n",
        "    classes = classes_input \n",
        "    imgs = []\n",
        "    labels = []\n",
        "    for (cl, i) in classes.items():\n",
        "        images_path = [elt for elt in os.listdir(os.path.join(data_path, cl)) if elt.find('.jpg')>0]\n",
        "        for img in tqdm(images_path[:300]):\n",
        "            path = os.path.join(data_path, cl, img)\n",
        "            if os.path.exists(path):\n",
        "                image = Image.open(path)\n",
        "                image = image.resize((256, 256))\n",
        "                imgs.append(np.array(image))\n",
        "                labels.append(i)\n",
        "\n",
        "    X = np.array(imgs)\n",
        "    num_classes = len(set(labels))\n",
        "    y = to_categorical(labels, num_classes)\n",
        "\n",
        "    # Finally we shuffle:\n",
        "    p = np.random.permutation(len(X))\n",
        "    X, y = X[p], y[p]\n",
        "\n",
        "    first_split = int(len(imgs) /6.)\n",
        "    second_split = first_split + int(len(imgs) * 0.2)\n",
        "    X_test, X_val, X_train = X[:first_split], X[first_split:second_split], X[second_split:]\n",
        "    y_test, y_val, y_train = y[:first_split], y[first_split:second_split], y[second_split:]\n",
        "    \n",
        "    return X_train, y_train, X_val, y_val, X_test, y_test, num_classes"
      ],
      "metadata": {
        "id": "8Li3z2rLyCIN"
      },
      "execution_count": 5,
      "outputs": []
    },
    {
      "cell_type": "markdown",
      "metadata": {
        "id": "onPwIzQzF7TE"
      },
      "source": [
        "Use the following method to create \n",
        "`X_train, y_train, X_val, y_val, X_test, y_test, num_classes` depending on the `classes & path` you want to use:"
      ]
    },
    {
      "cell_type": "code",
      "source": [
        "# CALL load_data with your preferred PATH and LABELS here  JPG\n",
        "classes_input= {'Achaetomium strumarium':0,\n",
        "                'Bipolaris australiensis':1,\n",
        "                'Colletotrichum gloeosporioides':2}\n",
        "\n",
        "data_path_input = '/content/drive/My Drive/Colab Notebooks/data-transfer-learning/funghi'\n",
        "X_train, y_train, X_val, y_val, X_test, y_test, num_classes=load_data(classes_input, data_path_input)"
      ],
      "metadata": {
        "id": "giH2eO5IyjGY",
        "colab": {
          "base_uri": "https://localhost:8080/",
          "height": 432
        },
        "outputId": "55d04cef-9618-4078-9f47-b72264773e97"
      },
      "execution_count": 6,
      "outputs": [
        {
          "output_type": "stream",
          "name": "stderr",
          "text": [
            "0it [00:00, ?it/s]\n",
            "0it [00:00, ?it/s]\n",
            "0it [00:00, ?it/s]\n"
          ]
        },
        {
          "output_type": "error",
          "ename": "ValueError",
          "evalue": "ignored",
          "traceback": [
            "\u001b[0;31m---------------------------------------------------------------------------\u001b[0m",
            "\u001b[0;31mValueError\u001b[0m                                Traceback (most recent call last)",
            "\u001b[0;32m<ipython-input-6-db2ff75cb7f2>\u001b[0m in \u001b[0;36m<module>\u001b[0;34m\u001b[0m\n\u001b[1;32m      5\u001b[0m \u001b[0;34m\u001b[0m\u001b[0m\n\u001b[1;32m      6\u001b[0m \u001b[0mdata_path_input\u001b[0m \u001b[0;34m=\u001b[0m \u001b[0;34m'/content/drive/My Drive/Colab Notebooks/data-transfer-learning/funghi'\u001b[0m\u001b[0;34m\u001b[0m\u001b[0;34m\u001b[0m\u001b[0m\n\u001b[0;32m----> 7\u001b[0;31m \u001b[0mX_train\u001b[0m\u001b[0;34m,\u001b[0m \u001b[0my_train\u001b[0m\u001b[0;34m,\u001b[0m \u001b[0mX_val\u001b[0m\u001b[0;34m,\u001b[0m \u001b[0my_val\u001b[0m\u001b[0;34m,\u001b[0m \u001b[0mX_test\u001b[0m\u001b[0;34m,\u001b[0m \u001b[0my_test\u001b[0m\u001b[0;34m,\u001b[0m \u001b[0mnum_classes\u001b[0m\u001b[0;34m=\u001b[0m\u001b[0mload_data\u001b[0m\u001b[0;34m(\u001b[0m\u001b[0mclasses_input\u001b[0m\u001b[0;34m,\u001b[0m \u001b[0mdata_path_input\u001b[0m\u001b[0;34m)\u001b[0m\u001b[0;34m\u001b[0m\u001b[0;34m\u001b[0m\u001b[0m\n\u001b[0m",
            "\u001b[0;32m<ipython-input-5-f43b2243b77a>\u001b[0m in \u001b[0;36mload_data\u001b[0;34m(classes_input, data_path_input)\u001b[0m\n\u001b[1;32m     17\u001b[0m     \u001b[0mX\u001b[0m \u001b[0;34m=\u001b[0m \u001b[0mnp\u001b[0m\u001b[0;34m.\u001b[0m\u001b[0marray\u001b[0m\u001b[0;34m(\u001b[0m\u001b[0mimgs\u001b[0m\u001b[0;34m)\u001b[0m\u001b[0;34m\u001b[0m\u001b[0;34m\u001b[0m\u001b[0m\n\u001b[1;32m     18\u001b[0m     \u001b[0mnum_classes\u001b[0m \u001b[0;34m=\u001b[0m \u001b[0mlen\u001b[0m\u001b[0;34m(\u001b[0m\u001b[0mset\u001b[0m\u001b[0;34m(\u001b[0m\u001b[0mlabels\u001b[0m\u001b[0;34m)\u001b[0m\u001b[0;34m)\u001b[0m\u001b[0;34m\u001b[0m\u001b[0;34m\u001b[0m\u001b[0m\n\u001b[0;32m---> 19\u001b[0;31m     \u001b[0my\u001b[0m \u001b[0;34m=\u001b[0m \u001b[0mto_categorical\u001b[0m\u001b[0;34m(\u001b[0m\u001b[0mlabels\u001b[0m\u001b[0;34m,\u001b[0m \u001b[0mnum_classes\u001b[0m\u001b[0;34m)\u001b[0m\u001b[0;34m\u001b[0m\u001b[0;34m\u001b[0m\u001b[0m\n\u001b[0m\u001b[1;32m     20\u001b[0m \u001b[0;34m\u001b[0m\u001b[0m\n\u001b[1;32m     21\u001b[0m     \u001b[0;31m# Finally we shuffle:\u001b[0m\u001b[0;34m\u001b[0m\u001b[0;34m\u001b[0m\u001b[0;34m\u001b[0m\u001b[0m\n",
            "\u001b[0;32m/usr/local/lib/python3.7/dist-packages/keras/utils/np_utils.py\u001b[0m in \u001b[0;36mto_categorical\u001b[0;34m(y, num_classes, dtype)\u001b[0m\n\u001b[1;32m     66\u001b[0m   \u001b[0my\u001b[0m \u001b[0;34m=\u001b[0m \u001b[0my\u001b[0m\u001b[0;34m.\u001b[0m\u001b[0mravel\u001b[0m\u001b[0;34m(\u001b[0m\u001b[0;34m)\u001b[0m\u001b[0;34m\u001b[0m\u001b[0;34m\u001b[0m\u001b[0m\n\u001b[1;32m     67\u001b[0m   \u001b[0;32mif\u001b[0m \u001b[0;32mnot\u001b[0m \u001b[0mnum_classes\u001b[0m\u001b[0;34m:\u001b[0m\u001b[0;34m\u001b[0m\u001b[0;34m\u001b[0m\u001b[0m\n\u001b[0;32m---> 68\u001b[0;31m     \u001b[0mnum_classes\u001b[0m \u001b[0;34m=\u001b[0m \u001b[0mnp\u001b[0m\u001b[0;34m.\u001b[0m\u001b[0mmax\u001b[0m\u001b[0;34m(\u001b[0m\u001b[0my\u001b[0m\u001b[0;34m)\u001b[0m \u001b[0;34m+\u001b[0m \u001b[0;36m1\u001b[0m\u001b[0;34m\u001b[0m\u001b[0;34m\u001b[0m\u001b[0m\n\u001b[0m\u001b[1;32m     69\u001b[0m   \u001b[0mn\u001b[0m \u001b[0;34m=\u001b[0m \u001b[0my\u001b[0m\u001b[0;34m.\u001b[0m\u001b[0mshape\u001b[0m\u001b[0;34m[\u001b[0m\u001b[0;36m0\u001b[0m\u001b[0;34m]\u001b[0m\u001b[0;34m\u001b[0m\u001b[0;34m\u001b[0m\u001b[0m\n\u001b[1;32m     70\u001b[0m   \u001b[0mcategorical\u001b[0m \u001b[0;34m=\u001b[0m \u001b[0mnp\u001b[0m\u001b[0;34m.\u001b[0m\u001b[0mzeros\u001b[0m\u001b[0;34m(\u001b[0m\u001b[0;34m(\u001b[0m\u001b[0mn\u001b[0m\u001b[0;34m,\u001b[0m \u001b[0mnum_classes\u001b[0m\u001b[0;34m)\u001b[0m\u001b[0;34m,\u001b[0m \u001b[0mdtype\u001b[0m\u001b[0;34m=\u001b[0m\u001b[0mdtype\u001b[0m\u001b[0;34m)\u001b[0m\u001b[0;34m\u001b[0m\u001b[0;34m\u001b[0m\u001b[0m\n",
            "\u001b[0;32m<__array_function__ internals>\u001b[0m in \u001b[0;36mamax\u001b[0;34m(*args, **kwargs)\u001b[0m\n",
            "\u001b[0;32m/usr/local/lib/python3.7/dist-packages/numpy/core/fromnumeric.py\u001b[0m in \u001b[0;36mamax\u001b[0;34m(a, axis, out, keepdims, initial, where)\u001b[0m\n\u001b[1;32m   2753\u001b[0m     \"\"\"\n\u001b[1;32m   2754\u001b[0m     return _wrapreduction(a, np.maximum, 'max', axis, None, out,\n\u001b[0;32m-> 2755\u001b[0;31m                           keepdims=keepdims, initial=initial, where=where)\n\u001b[0m\u001b[1;32m   2756\u001b[0m \u001b[0;34m\u001b[0m\u001b[0m\n\u001b[1;32m   2757\u001b[0m \u001b[0;34m\u001b[0m\u001b[0m\n",
            "\u001b[0;32m/usr/local/lib/python3.7/dist-packages/numpy/core/fromnumeric.py\u001b[0m in \u001b[0;36m_wrapreduction\u001b[0;34m(obj, ufunc, method, axis, dtype, out, **kwargs)\u001b[0m\n\u001b[1;32m     84\u001b[0m                 \u001b[0;32mreturn\u001b[0m \u001b[0mreduction\u001b[0m\u001b[0;34m(\u001b[0m\u001b[0maxis\u001b[0m\u001b[0;34m=\u001b[0m\u001b[0maxis\u001b[0m\u001b[0;34m,\u001b[0m \u001b[0mout\u001b[0m\u001b[0;34m=\u001b[0m\u001b[0mout\u001b[0m\u001b[0;34m,\u001b[0m \u001b[0;34m**\u001b[0m\u001b[0mpasskwargs\u001b[0m\u001b[0;34m)\u001b[0m\u001b[0;34m\u001b[0m\u001b[0;34m\u001b[0m\u001b[0m\n\u001b[1;32m     85\u001b[0m \u001b[0;34m\u001b[0m\u001b[0m\n\u001b[0;32m---> 86\u001b[0;31m     \u001b[0;32mreturn\u001b[0m \u001b[0mufunc\u001b[0m\u001b[0;34m.\u001b[0m\u001b[0mreduce\u001b[0m\u001b[0;34m(\u001b[0m\u001b[0mobj\u001b[0m\u001b[0;34m,\u001b[0m \u001b[0maxis\u001b[0m\u001b[0;34m,\u001b[0m \u001b[0mdtype\u001b[0m\u001b[0;34m,\u001b[0m \u001b[0mout\u001b[0m\u001b[0;34m,\u001b[0m \u001b[0;34m**\u001b[0m\u001b[0mpasskwargs\u001b[0m\u001b[0;34m)\u001b[0m\u001b[0;34m\u001b[0m\u001b[0;34m\u001b[0m\u001b[0m\n\u001b[0m\u001b[1;32m     87\u001b[0m \u001b[0;34m\u001b[0m\u001b[0m\n\u001b[1;32m     88\u001b[0m \u001b[0;34m\u001b[0m\u001b[0m\n",
            "\u001b[0;31mValueError\u001b[0m: zero-size array to reduction operation maximum which has no identity"
          ]
        }
      ]
    },
    {
      "cell_type": "code",
      "source": [
        "# CALL load_data with your preferred PATH and LABELS here\n",
        "classes_input= {'B.subtilis':0,\n",
        "                'C.albicans':1,\n",
        "                'E.coli':2}\n",
        "\n",
        "data_path_input = '/content/drive/My Drive/Colab Notebooks/data-transfer-learning/AGAR_examples_200_per_class'\n",
        "X_train, y_train, X_val, y_val, X_test, y_test, num_classes=load_data(classes_input, data_path_input)"
      ],
      "metadata": {
        "id": "Q02oBpOnFn_s",
        "colab": {
          "base_uri": "https://localhost:8080/"
        },
        "outputId": "7b008082-ce58-4f7c-fa24-65fadff0337a"
      },
      "execution_count": 7,
      "outputs": [
        {
          "output_type": "stream",
          "name": "stderr",
          "text": [
            "100%|██████████| 200/200 [00:58<00:00,  3.44it/s]\n",
            "100%|██████████| 200/200 [00:57<00:00,  3.50it/s]\n",
            "100%|██████████| 200/200 [01:02<00:00,  3.22it/s]\n"
          ]
        }
      ]
    },
    {
      "cell_type": "markdown",
      "metadata": {
        "id": "sOkQIQj4Z2vJ"
      },
      "source": [
        "## (2) Visualizing dataset\n"
      ]
    },
    {
      "cell_type": "code",
      "source": [
        "print(\"Train_shape: \",X_train.shape,y_train.shape)\n",
        "print(\"Val_shape: \",X_val.shape, y_val.shape)\n",
        "print(\"Test_shape: \",X_test.shape,y_test.shape)\n",
        "print(\"Num_classes: \",num_classes)\n",
        "print(y_train.sum(axis=0),y_val.sum(axis=0),y_test.sum(axis=0))"
      ],
      "metadata": {
        "id": "DOba5TnR1VvO",
        "colab": {
          "base_uri": "https://localhost:8080/"
        },
        "outputId": "3381f698-4ada-453b-a440-22a4f9f39ba7"
      },
      "execution_count": 12,
      "outputs": [
        {
          "output_type": "stream",
          "name": "stdout",
          "text": [
            "Train_shape:  (380, 256, 256, 3) (380, 3)\n",
            "Val_shape:  (120, 256, 256, 3) (120, 3)\n",
            "Test_shape:  (100, 256, 256, 3) (100, 3)\n",
            "Num_classes:  3\n",
            "[135. 122. 123.] [40. 42. 38.] [25. 36. 39.]\n"
          ]
        }
      ]
    },
    {
      "cell_type": "code",
      "source": [
        "# Visualization order of rows: Training, Validating, Testing data\n",
        "#ATTENTION: WE MUST REDUCE WHEN WE HAVE MORE DATA\n",
        "plt.figure(figsize=(15,5))\n",
        "for i in range(15):\n",
        "    plt.subplot(1,15, i+1)\n",
        "    img = X_train[i]\n",
        "    plt.imshow(img)\n",
        "plt.figure(figsize=(15,5))\n",
        "for i in range(10):\n",
        "    plt.subplot(1,10, i+1)\n",
        "    img = X_val[i]\n",
        "    plt.imshow(img)\n",
        "plt.figure(figsize=(15,5))\n",
        "for i in range(5):\n",
        "    plt.subplot(1,5, i+1)\n",
        "    img = X_test[i]\n",
        "    plt.imshow(img)"
      ],
      "metadata": {
        "id": "7-XDGaEv4DY7"
      },
      "execution_count": null,
      "outputs": []
    },
    {
      "cell_type": "markdown",
      "metadata": {
        "id": "o-S858KRF7TA"
      },
      "source": [
        "## (3) Data Augmentation (TESTING)"
      ]
    },
    {
      "cell_type": "markdown",
      "metadata": {
        "id": "tzLvo4N5Z2vL"
      },
      "source": [
        "❓ Question: Should we create a cycle that keeps using the augmented data to create even more augmented data, or simply augment from the same X_train every time?\n",
        "❓\n",
        "\n",
        "First we create our image generating model and train it on our X_train."
      ]
    },
    {
      "cell_type": "code",
      "source": [
        "datagen = ImageDataGenerator(\n",
        "    #featurewise_center = False,\n",
        "    #featurewise_std_normalization = False,\n",
        "    #rotation_range = 10,\n",
        "    width_shift_range = 100,\n",
        "    height_shift_range = 100,\n",
        "    horizontal_flip = True,\n",
        "    #zoom_range = (0.8, 1.2),\n",
        "    ) \n",
        "datagen.fit(X_train)\n",
        "datagen"
      ],
      "metadata": {
        "id": "Ovni9NLFnrM0"
      },
      "execution_count": null,
      "outputs": []
    },
    {
      "cell_type": "markdown",
      "source": [
        "Then we create our augmented data."
      ],
      "metadata": {
        "id": "d0uSN-wi8Z1h"
      }
    },
    {
      "cell_type": "code",
      "source": [
        "X_augmented_iterator = datagen.flow(X_train, shuffle=False, batch_size=1)\n",
        "#print(X_train[0].shape)\n",
        "#print(X_train[0][0].shape)\n",
        "#print(X_augmented_iterator[0].shape)\n",
        "#print(X_augmented_iterator[0][0].shape)"
      ],
      "metadata": {
        "id": "HDrU-Ckyns0k"
      },
      "execution_count": null,
      "outputs": []
    },
    {
      "cell_type": "markdown",
      "source": [
        "Plotting our data next to our augmented data.\n",
        "`Comments below are simply tests to actually expand the data. As of now, expanded data is not in use`"
      ],
      "metadata": {
        "id": "ZS4W-q1d8i9Y"
      }
    },
    {
      "cell_type": "code",
      "source": [
        "#X_train_2 = np.concatenate((X_train, X_augmented_iterator[0]))\n",
        "\n",
        "#for i in range(1,16):\n",
        "  #X_train_2 = np.concatenate((X_train_2, X_augmented_iterator[i]))\n",
        "X_augmented_iterator_2 = datagen.flow(X_train, shuffle=False, batch_size=1)#X_train_2\n",
        "import numpy as np\n",
        "counter=0\n",
        "\n",
        "for i, (raw_image, augmented_image) in enumerate(zip(X_train, X_augmented_iterator)): #X_train_2 X_augmented_iterator_2\n",
        "    counter=counter+1\n",
        "    _, (ax1, ax2) = plt.subplots(1, 2, figsize=(6, 2))\n",
        "    ax1.imshow((raw_image).astype(np.uint8))\n",
        "    ax2.imshow((augmented_image[0]).astype(np.uint8))\n",
        "    plt.show()\n",
        "counter"
      ],
      "metadata": {
        "id": "KrXJWPwfnxSI"
      },
      "execution_count": null,
      "outputs": []
    },
    {
      "cell_type": "markdown",
      "metadata": {
        "id": "sx8V9sny7cLP"
      },
      "source": [
        "## (4) Using a pre-trained CNN = Transfer learning"
      ]
    },
    {
      "cell_type": "markdown",
      "metadata": {
        "id": "YZldqCInZ2vS"
      },
      "source": [
        "### (4.1) Load VGG16 model"
      ]
    },
    {
      "cell_type": "markdown",
      "source": [
        "Have a look at the documentation 📚  [tf/keras/applications/VGG16](https://www.tensorflow.org/api_docs/python/tf/keras/applications/VGG16)📚\n"
      ],
      "metadata": {
        "id": "G6od-ugp9t2l"
      }
    },
    {
      "cell_type": "markdown",
      "source": [
        "First we create a function to load the model:"
      ],
      "metadata": {
        "id": "hQk8_4hD-WER"
      }
    },
    {
      "cell_type": "code",
      "execution_count": 13,
      "metadata": {
        "id": "kogu5tvoyC5V"
      },
      "outputs": [],
      "source": [
        "def load_model():\n",
        "    \n",
        "    model=VGG16(\n",
        "    include_top=False,\n",
        "    weights='imagenet',\n",
        "    input_tensor=None,\n",
        "    input_shape=(256,256,3),\n",
        "    pooling=None,\n",
        "    classes=1000,\n",
        "    classifier_activation='softmax'\n",
        "    )\n",
        "    \n",
        "    return model"
      ]
    },
    {
      "cell_type": "markdown",
      "source": [
        "Then we create a second function to lock the trainability of the layers we want to remain untouched:"
      ],
      "metadata": {
        "id": "IbiJSn8d-cBl"
      }
    },
    {
      "cell_type": "code",
      "execution_count": 14,
      "metadata": {
        "id": "OtG4pNCvyC5W"
      },
      "outputs": [],
      "source": [
        "def set_nontrainable_layers(model):\n",
        "    model.trainable=True\n",
        "    return model"
      ]
    },
    {
      "cell_type": "markdown",
      "source": [
        "At last we sequentialize all the previous steps with our custom layers (highlighted with comments):"
      ],
      "metadata": {
        "id": "4GG1L756-9CZ"
      }
    },
    {
      "cell_type": "code",
      "execution_count": 15,
      "metadata": {
        "id": "dF9g-B6gyC5X"
      },
      "outputs": [],
      "source": [
        "def final_architecture():\n",
        "    base_model = load_model()\n",
        "    base_model = set_nontrainable_layers(base_model)\n",
        "\n",
        "    #############\n",
        "    flattening_layer = layers.Flatten()\n",
        "    dense_layer = layers.Dense(50, activation='relu')\n",
        "    prediction_layer = layers.Dense(num_classes, activation='softmax')#don't edit this one, only layers above it\n",
        "    #############\n",
        "\n",
        "    model = Sequential([\n",
        "      base_model,\n",
        "      flattening_layer,\n",
        "      dense_layer,\n",
        "      prediction_layer\n",
        "    ])\n",
        "    return model"
      ]
    },
    {
      "cell_type": "markdown",
      "source": [
        "Visualize the parameters of our final architecture:"
      ],
      "metadata": {
        "id": "Hxe_zAZO_yl1"
      }
    },
    {
      "cell_type": "code",
      "execution_count": 16,
      "metadata": {
        "id": "0uqGuxsJF7TR",
        "tags": [
          "challengify"
        ],
        "colab": {
          "base_uri": "https://localhost:8080/"
        },
        "outputId": "c2a0d604-7037-4389-d27d-6589473810a1"
      },
      "outputs": [
        {
          "output_type": "stream",
          "name": "stdout",
          "text": [
            "Model: \"sequential\"\n",
            "_________________________________________________________________\n",
            " Layer (type)                Output Shape              Param #   \n",
            "=================================================================\n",
            " vgg16 (Functional)          (None, 8, 8, 512)         14714688  \n",
            "                                                                 \n",
            " flatten (Flatten)           (None, 32768)             0         \n",
            "                                                                 \n",
            " dense (Dense)               (None, 50)                1638450   \n",
            "                                                                 \n",
            " dense_1 (Dense)             (None, 3)                 153       \n",
            "                                                                 \n",
            "=================================================================\n",
            "Total params: 16,353,291\n",
            "Trainable params: 16,353,291\n",
            "Non-trainable params: 0\n",
            "_________________________________________________________________\n"
          ]
        }
      ],
      "source": [
        "model=final_architecture()\n",
        "model.summary()"
      ]
    },
    {
      "cell_type": "markdown",
      "source": [
        "We finalize our module with a custom made compilation function.\n",
        "❓ Question: Could Adam be the best optimizer? Should other metrics be tested?\n",
        "❓"
      ],
      "metadata": {
        "id": "AJCJtIy2ADIZ"
      }
    },
    {
      "cell_type": "code",
      "execution_count": 17,
      "metadata": {
        "id": "TS25IRkqyC5X"
      },
      "outputs": [],
      "source": [
        "def build_model():\n",
        "    model_compiled=final_architecture()\n",
        "\n",
        "    opt=Adam(\n",
        "    learning_rate=1e-4\n",
        "    )\n",
        "\n",
        "    model_compiled.compile(loss='categorical_crossentropy',\n",
        "              optimizer=opt,\n",
        "              metrics=['accuracy'])\n",
        "    return model_compiled"
      ]
    },
    {
      "cell_type": "markdown",
      "metadata": {
        "id": "S96qsiKxZ2vU"
      },
      "source": [
        "### (5.2) VGG Preprocessing (preparation to use fit our data)"
      ]
    },
    {
      "cell_type": "code",
      "execution_count": 18,
      "metadata": {
        "id": "uNeJZvtV3YDf",
        "tags": [
          "challengify"
        ]
      },
      "outputs": [],
      "source": [
        "X_train_end = preprocess_input(X_train)#X_train_2\n",
        "X_val_end = preprocess_input(X_val)\n",
        "X_test_end = preprocess_input(X_test)\n",
        "#X_train_end.shape"
      ]
    },
    {
      "cell_type": "markdown",
      "metadata": {
        "id": "2T7HvbQfZ2vZ"
      },
      "source": [
        "### (5.3)  EUREKA, we can fit the model"
      ]
    },
    {
      "cell_type": "code",
      "execution_count": 19,
      "metadata": {
        "id": "grmnNmjeAXcQ",
        "tags": [
          "challengify"
        ],
        "colab": {
          "base_uri": "https://localhost:8080/"
        },
        "outputId": "46a246a9-7ad4-4710-e8b8-aa58fbddfaff"
      },
      "outputs": [
        {
          "output_type": "stream",
          "name": "stdout",
          "text": [
            "Epoch 1/100\n",
            "6/6 [==============================] - 44s 5s/step - loss: 5.3862 - accuracy: 0.3658 - val_loss: 1.0426 - val_accuracy: 0.3833\n",
            "Epoch 2/100\n",
            "6/6 [==============================] - 7s 1s/step - loss: 1.1222 - accuracy: 0.4289 - val_loss: 0.9638 - val_accuracy: 0.5917\n",
            "Epoch 3/100\n",
            "6/6 [==============================] - 7s 1s/step - loss: 0.9748 - accuracy: 0.4895 - val_loss: 0.9236 - val_accuracy: 0.5083\n",
            "Epoch 4/100\n",
            "6/6 [==============================] - 7s 1s/step - loss: 0.8420 - accuracy: 0.5842 - val_loss: 0.7299 - val_accuracy: 0.7167\n",
            "Epoch 5/100\n",
            "6/6 [==============================] - 7s 1s/step - loss: 0.7394 - accuracy: 0.6395 - val_loss: 0.6470 - val_accuracy: 0.7500\n",
            "Epoch 6/100\n",
            "6/6 [==============================] - 7s 1s/step - loss: 0.5781 - accuracy: 0.7632 - val_loss: 0.4888 - val_accuracy: 0.8000\n",
            "Epoch 7/100\n",
            "6/6 [==============================] - 7s 1s/step - loss: 0.4260 - accuracy: 0.8316 - val_loss: 0.4857 - val_accuracy: 0.7750\n",
            "Epoch 8/100\n",
            "6/6 [==============================] - 7s 1s/step - loss: 0.4919 - accuracy: 0.7974 - val_loss: 0.4102 - val_accuracy: 0.8167\n",
            "Epoch 9/100\n",
            "6/6 [==============================] - 7s 1s/step - loss: 0.4236 - accuracy: 0.8158 - val_loss: 0.3391 - val_accuracy: 0.8667\n",
            "Epoch 10/100\n",
            "6/6 [==============================] - 7s 1s/step - loss: 0.2906 - accuracy: 0.8763 - val_loss: 0.3079 - val_accuracy: 0.8667\n",
            "Epoch 11/100\n",
            "6/6 [==============================] - 7s 1s/step - loss: 0.1957 - accuracy: 0.9211 - val_loss: 0.2447 - val_accuracy: 0.8833\n",
            "Epoch 12/100\n",
            "6/6 [==============================] - 7s 1s/step - loss: 0.1694 - accuracy: 0.9368 - val_loss: 0.2467 - val_accuracy: 0.8667\n",
            "Epoch 13/100\n",
            "6/6 [==============================] - 7s 1s/step - loss: 0.1181 - accuracy: 0.9553 - val_loss: 0.1772 - val_accuracy: 0.9333\n",
            "Epoch 14/100\n",
            "6/6 [==============================] - 7s 1s/step - loss: 0.2882 - accuracy: 0.9079 - val_loss: 2.2669 - val_accuracy: 0.6417\n",
            "Epoch 15/100\n",
            "6/6 [==============================] - 7s 1s/step - loss: 1.0637 - accuracy: 0.6105 - val_loss: 0.6411 - val_accuracy: 0.7917\n",
            "Epoch 16/100\n",
            "6/6 [==============================] - 7s 1s/step - loss: 0.5857 - accuracy: 0.7553 - val_loss: 0.5962 - val_accuracy: 0.7250\n",
            "Epoch 17/100\n",
            "6/6 [==============================] - 7s 1s/step - loss: 0.4096 - accuracy: 0.8184 - val_loss: 0.3890 - val_accuracy: 0.8000\n",
            "Epoch 18/100\n",
            "6/6 [==============================] - 7s 1s/step - loss: 0.2588 - accuracy: 0.8974 - val_loss: 0.4537 - val_accuracy: 0.8000\n",
            "Epoch 19/100\n",
            "6/6 [==============================] - 7s 1s/step - loss: 0.3069 - accuracy: 0.8684 - val_loss: 0.3540 - val_accuracy: 0.8333\n",
            "Epoch 20/100\n",
            "6/6 [==============================] - 7s 1s/step - loss: 0.1922 - accuracy: 0.9316 - val_loss: 0.2695 - val_accuracy: 0.9083\n",
            "Epoch 21/100\n",
            "6/6 [==============================] - 7s 1s/step - loss: 0.1367 - accuracy: 0.9474 - val_loss: 0.3167 - val_accuracy: 0.8750\n",
            "Epoch 22/100\n",
            "6/6 [==============================] - 7s 1s/step - loss: 0.1589 - accuracy: 0.9395 - val_loss: 0.2576 - val_accuracy: 0.8917\n",
            "Epoch 23/100\n",
            "6/6 [==============================] - 7s 1s/step - loss: 0.0819 - accuracy: 0.9763 - val_loss: 0.2798 - val_accuracy: 0.8917\n"
          ]
        }
      ],
      "source": [
        "model_final=build_model()\n",
        "\n",
        "es = EarlyStopping(\n",
        "    patience=10,\n",
        "    monitor='val_accuracy', # We really want to dete\n",
        "    restore_best_weights=True)\n",
        "\n",
        "history=model_final.fit(X_train_end, y_train,\n",
        "          epochs=100,  # Use early stopping in practice\n",
        "          validation_data=(X_val_end, y_val),\n",
        "          batch_size=64, \n",
        "          verbose=1,\n",
        "         callbacks=[es])"
      ]
    },
    {
      "cell_type": "markdown",
      "metadata": {
        "id": "ec_I9JpiAm-W"
      },
      "source": [
        "Plot the accuracy for both the train set and and the validation set using the usual function below"
      ]
    },
    {
      "cell_type": "code",
      "execution_count": 20,
      "metadata": {
        "id": "XnsAOtVvyC5Y"
      },
      "outputs": [],
      "source": [
        "def plot_history(history, title='', axs=None, exp_name=\"\"):\n",
        "    if axs is not None:\n",
        "        ax1, ax2 = axs\n",
        "    else:\n",
        "        f, (ax1, ax2) = plt.subplots(1, 2, figsize=(12, 4))\n",
        "    \n",
        "    if len(exp_name) > 0 and exp_name[0] != '_':\n",
        "        exp_name = '_' + exp_name\n",
        "    ax1.plot(history.history['loss'], label='train' + exp_name)\n",
        "    ax1.plot(history.history['val_loss'], label='val' + exp_name)\n",
        "    #ax1.set_ylim(0., 2.2)\n",
        "    ax1.set_title('loss')\n",
        "    ax1.legend()\n",
        "\n",
        "    ax2.plot(history.history['accuracy'], label='train accuracy'  + exp_name)\n",
        "    ax2.plot(history.history['val_accuracy'], label='val accuracy'  + exp_name)\n",
        "    #ax2.set_ylim(0.25, 1.)\n",
        "    ax2.set_title('Accuracy')\n",
        "    ax2.legend()\n",
        "    return (ax1, ax2)"
      ]
    },
    {
      "cell_type": "code",
      "execution_count": 21,
      "metadata": {
        "id": "ESzinGOY6aBc",
        "tags": [
          "challengify"
        ],
        "colab": {
          "base_uri": "https://localhost:8080/",
          "height": 316
        },
        "outputId": "cc8ce381-24b2-414c-af3b-c4fd99ec6db7"
      },
      "outputs": [
        {
          "output_type": "execute_result",
          "data": {
            "text/plain": [
              "(<matplotlib.axes._subplots.AxesSubplot at 0x7f00a026ad10>,\n",
              " <matplotlib.axes._subplots.AxesSubplot at 0x7f00f0197a50>)"
            ]
          },
          "metadata": {},
          "execution_count": 21
        },
        {
          "output_type": "display_data",
          "data": {
            "text/plain": [
              "<Figure size 864x288 with 2 Axes>"
            ],
            "image/png": "[encoded data removed]"
          },
          "metadata": {
            "needs_background": "light"
          }
        }
      ],
      "source": [
        "plot_history(history)"
      ]
    },
    {
      "cell_type": "code",
      "source": [
        "y_pred=model_final.predict(X_test_end)\n",
        "y_pred_end=y_pred.round(decimals=0,out=None)"
      ],
      "metadata": {
        "colab": {
          "base_uri": "https://localhost:8080/"
        },
        "id": "rAOuGMnw3mBo",
        "outputId": "9bbd60a0-0453-47e6-8a26-5957e7b747ac"
      },
      "execution_count": 22,
      "outputs": [
        {
          "output_type": "stream",
          "name": "stdout",
          "text": [
            "4/4 [==============================] - 5s 391ms/step\n"
          ]
        }
      ]
    },
    {
      "cell_type": "code",
      "source": [
        "from sklearn.metrics import confusion_matrix\n",
        "y_pred_end=np.argmax(y_pred_end, axis=1)\n",
        "y_test_end=np.argmax(y_test, axis=1)\n",
        "print(y_pred_end)\n",
        "print(y_test_end)\n",
        "\n",
        "# simply call the confusion_matrix function to build a confusion matrix\n",
        "cm = confusion_matrix(y_test_end, y_pred_end)\n",
        "print(cm)"
      ],
      "metadata": {
        "colab": {
          "base_uri": "https://localhost:8080/"
        },
        "id": "ETuiCWRa2SWx",
        "outputId": "7e2a0005-e550-4911-fc4c-772966fc1e35"
      },
      "execution_count": 23,
      "outputs": [
        {
          "output_type": "stream",
          "name": "stdout",
          "text": [
            "[2 1 1 2 2 0 0 2 1 2 2 1 2 0 2 1 0 2 1 1 0 1 2 1 1 2 1 0 2 1 0 2 1 0 1 1 1\n",
            " 2 2 1 1 0 1 0 1 2 1 0 0 1 1 1 2 0 2 2 2 1 1 1 1 1 1 0 1 2 0 2 0 1 2 2 1 2\n",
            " 2 1 1 1 0 2 2 2 2 2 2 0 1 1 2 1 0 2 2 0 2 2 0 2 2 0]\n",
            "[2 0 1 2 2 0 0 2 1 2 2 1 2 0 2 1 0 2 1 1 0 1 2 0 1 2 1 0 2 1 0 2 1 0 1 1 1\n",
            " 2 2 1 1 0 1 0 1 2 1 0 0 1 1 1 2 0 2 2 2 1 1 1 1 1 1 0 1 2 0 2 0 1 2 0 1 2\n",
            " 2 1 1 1 2 2 2 2 2 2 2 0 1 1 2 0 0 2 2 0 2 2 0 2 2 0]\n",
            "[[21  3  1]\n",
            " [ 0 36  0]\n",
            " [ 1  0 38]]\n"
          ]
        }
      ]
    },
    {
      "cell_type": "code",
      "source": [
        "import matplotlib.pyplot as plt\n",
        "import numpy as np\n",
        "import itertools\n",
        "\n",
        "def plot_confusion_matrix(cm, target_names, title='Confusion matrix', cmap=None, normalize=False):\n",
        "    \"\"\"\n",
        "    arguments\n",
        "    ---------\n",
        "    cm:           confusion matrix from sklearn.metrics.confusion_matrix\n",
        "\n",
        "    target_names: given classification classes such as [0, 1, 2]\n",
        "                  the class names, for example: ['high', 'medium', 'low']\n",
        "\n",
        "    title:        the text to display at the top of the matrix\n",
        "\n",
        "    cmap:         the gradient of the values displayed from matplotlib.pyplot.cm\n",
        "                  see http://matplotlib.org/examples/color/colormaps_reference.html\n",
        "\n",
        "    normalize:    If False, plot the raw numbers\n",
        "                  If True, plot the proportions\n",
        "    \"\"\"\n",
        "     \n",
        "    if cmap is None:\n",
        "        cmap = plt.get_cmap('Oranges')\n",
        "\n",
        "    plt.figure(figsize=(8, 6))\n",
        "    plt.imshow(cm, interpolation='nearest', cmap=cmap)\n",
        "    plt.title(title)\n",
        "    plt.colorbar()\n",
        "    \n",
        "    if target_names is not None:\n",
        "        tick_marks = np.arange(len(target_names))\n",
        "        plt.xticks(tick_marks, target_names, rotation=45)\n",
        "        plt.yticks(tick_marks, target_names)\n",
        "\n",
        "    if normalize:\n",
        "        cm = cm.astype('float') / cm.sum(axis=1)[:, np.newaxis]\n",
        "\n",
        "\n",
        "    thresh = cm.max() / 1.5 if normalize else cm.max() / 2\n",
        "    for i, j in itertools.product(range(cm.shape[0]), range(cm.shape[1])):\n",
        "        if normalize:\n",
        "            plt.text(j, i, \"{:0.4f}\".format(cm[i, j]),\n",
        "                     horizontalalignment=\"center\",\n",
        "                     color=\"white\" if cm[i, j] > thresh else \"black\")\n",
        "        else:\n",
        "            plt.text(j, i, \"{:,}\".format(cm[i, j]),\n",
        "                     horizontalalignment=\"center\",\n",
        "                     color=\"white\" if cm[i, j] > thresh else \"black\")\n",
        "\n",
        "\n",
        "    plt.tight_layout()\n",
        "    plt.ylim(len(target_names)-0.5, -0.5)\n",
        "    plt.ylabel('True labels')\n",
        "    plt.xlabel('Predicted labels')\n",
        "    plt.savefig(title + '.png', dpi=500, bbox_inches = 'tight')\n",
        "    plt.show()\n",
        "    \n",
        "    \n",
        "    \n",
        "# a tuple for all the class names\n",
        "target_names = ('0','1','2')\n",
        "plot_confusion_matrix(cm, target_names)"
      ],
      "metadata": {
        "colab": {
          "base_uri": "https://localhost:8080/",
          "height": 455
        },
        "id": "aJvg7FQw6M33",
        "outputId": "b97dc260-9275-47d3-fb42-d30c9a300f84"
      },
      "execution_count": 27,
      "outputs": [
        {
          "output_type": "display_data",
          "data": {
            "text/plain": [
              "<Figure size 576x432 with 2 Axes>"
            ],
            "image/png": "[encoded data removed]"
          },
          "metadata": {
            "needs_background": "light"
          }
        }
      ]
    },
    {
      "cell_type": "markdown",
      "metadata": {
        "id": "y3plexlQAtcC"
      },
      "source": [
        "Question: Evaluating the model\n"
      ]
    },
    {
      "cell_type": "code",
      "execution_count": 25,
      "metadata": {
        "id": "ps_9HwUyRVj9",
        "tags": [
          "challengify"
        ],
        "colab": {
          "base_uri": "https://localhost:8080/"
        },
        "outputId": "5cb19427-8e1a-4380-c3e2-74e623e03f57"
      },
      "outputs": [
        {
          "output_type": "stream",
          "name": "stdout",
          "text": [
            "4/4 [==============================] - 1s 143ms/step - loss: 0.2343 - accuracy: 0.9400\n",
            "[0.23434345424175262, 0.9399999976158142]\n"
          ]
        },
        {
          "output_type": "execute_result",
          "data": {
            "text/plain": [
              "{'validation_data': None,\n",
              " 'model': <keras.engine.sequential.Sequential at 0x7f00f00e3e50>,\n",
              " '_chief_worker_only': None,\n",
              " '_supports_tf_logs': False,\n",
              " 'history': {'loss': [5.386159420013428,\n",
              "   1.122228980064392,\n",
              "   0.974801242351532,\n",
              "   0.8419843316078186,\n",
              "   0.7394111156463623,\n",
              "   0.5781180262565613,\n",
              "   0.42595773935317993,\n",
              "   0.49185270071029663,\n",
              "   0.4235592484474182,\n",
              "   0.290615051984787,\n",
              "   0.1957278996706009,\n",
              "   0.1694263517856598,\n",
              "   0.11805794388055801,\n",
              "   0.2881815731525421,\n",
              "   1.063712477684021,\n",
              "   0.5856534838676453,\n",
              "   0.409572571516037,\n",
              "   0.258830189704895,\n",
              "   0.30685436725616455,\n",
              "   0.1922074407339096,\n",
              "   0.13671737909317017,\n",
              "   0.15885938704013824,\n",
              "   0.08190751075744629],\n",
              "  'accuracy': [0.3657894730567932,\n",
              "   0.4289473593235016,\n",
              "   0.4894736707210541,\n",
              "   0.5842105150222778,\n",
              "   0.6394736766815186,\n",
              "   0.7631579041481018,\n",
              "   0.8315789699554443,\n",
              "   0.7973684072494507,\n",
              "   0.8157894611358643,\n",
              "   0.8763157725334167,\n",
              "   0.9210526347160339,\n",
              "   0.9368420839309692,\n",
              "   0.9552631378173828,\n",
              "   0.9078947305679321,\n",
              "   0.6105263233184814,\n",
              "   0.7552631497383118,\n",
              "   0.8184210658073425,\n",
              "   0.8973684310913086,\n",
              "   0.8684210777282715,\n",
              "   0.9315789341926575,\n",
              "   0.9473684430122375,\n",
              "   0.9394736886024475,\n",
              "   0.9763157963752747],\n",
              "  'val_loss': [1.0425550937652588,\n",
              "   0.9637635350227356,\n",
              "   0.9235705733299255,\n",
              "   0.7298544645309448,\n",
              "   0.6470134854316711,\n",
              "   0.4887794256210327,\n",
              "   0.4856518805027008,\n",
              "   0.4101676940917969,\n",
              "   0.3390567898750305,\n",
              "   0.30786263942718506,\n",
              "   0.244713693857193,\n",
              "   0.24669398367404938,\n",
              "   0.17720603942871094,\n",
              "   2.2668776512145996,\n",
              "   0.6411427855491638,\n",
              "   0.5961648225784302,\n",
              "   0.3889872133731842,\n",
              "   0.45373162627220154,\n",
              "   0.3540175259113312,\n",
              "   0.2695184051990509,\n",
              "   0.316718190908432,\n",
              "   0.2575811743736267,\n",
              "   0.27983441948890686],\n",
              "  'val_accuracy': [0.38333332538604736,\n",
              "   0.5916666388511658,\n",
              "   0.5083333253860474,\n",
              "   0.7166666388511658,\n",
              "   0.75,\n",
              "   0.800000011920929,\n",
              "   0.7749999761581421,\n",
              "   0.8166666626930237,\n",
              "   0.8666666746139526,\n",
              "   0.8666666746139526,\n",
              "   0.8833333253860474,\n",
              "   0.8666666746139526,\n",
              "   0.9333333373069763,\n",
              "   0.6416666507720947,\n",
              "   0.7916666865348816,\n",
              "   0.7250000238418579,\n",
              "   0.800000011920929,\n",
              "   0.800000011920929,\n",
              "   0.8333333134651184,\n",
              "   0.9083333611488342,\n",
              "   0.875,\n",
              "   0.8916666507720947,\n",
              "   0.8916666507720947]},\n",
              " 'params': {'verbose': 1, 'epochs': 100, 'steps': 6},\n",
              " 'epoch': [0,\n",
              "  1,\n",
              "  2,\n",
              "  3,\n",
              "  4,\n",
              "  5,\n",
              "  6,\n",
              "  7,\n",
              "  8,\n",
              "  9,\n",
              "  10,\n",
              "  11,\n",
              "  12,\n",
              "  13,\n",
              "  14,\n",
              "  15,\n",
              "  16,\n",
              "  17,\n",
              "  18,\n",
              "  19,\n",
              "  20,\n",
              "  21,\n",
              "  22]}"
            ]
          },
          "metadata": {},
          "execution_count": 25
        }
      ],
      "source": [
        "print(model_final.evaluate(X_test_end, y_test, verbose=1))\n",
        "history.__dict__"
      ]
    },
    {
      "cell_type": "markdown",
      "metadata": {
        "id": "N5T1KvsGZ2va"
      },
      "source": [
        "## (6) (Optional) Improve the model"
      ]
    },
    {
      "cell_type": "markdown",
      "metadata": {
        "id": "oF39HIb7BSOy"
      },
      "source": [
        "Now, you can try to improve the model's test accuracy. To do that, here are some options you can consider\n",
        "\n",
        "1. **Unfreeze and finetune**: Source: [Google tutorial](https://www.tensorflow.org/guide/keras/transfer_learning#fine-tuning) \n",
        ">_Once your model has converged on the new data, you can try to unfreeze all or part of the base model and retrain the whole model end-to-end with a very low learning rate. This is an optional last step that can potentially give you incremental improvements. It could also potentially lead to quick overfitting -- keep that in mind. It is critical to only do this step after the model with frozen layers has been trained to convergence. If you mix randomly-initialized trainable layers with trainable layers that hold pre-trained features, the randomly-initialized layers will cause very large gradient updates during training, which will destroy your pre-trained features. It's also critical to use a very low learning rate at this stage, because you are training a much larger model than in the first round of training, on a dataset that is typically very small. As a result, you are at risk of overfitting very quickly if you apply large weight updates. Here, you only want to readapt the pretrained weights in an incremental way._\n",
        "\n",
        "\n",
        "1. Add **Data Augmentation** if your model is overfitting. \n",
        "\n",
        "2. If your model is not overfitting, try a more complex model.\n",
        "\n",
        "3. Perform a precise **Grid Search** on all the hyper-parameters: learning_rate, batch_size, data augmentation etc...\n",
        "\n",
        "4. **Change the base model** to more modern one CNN (ResNet, EfficientNet1,... available in the keras library)\n",
        "\n",
        "5. Curate the data: maintaining a sane data set is one of the keys to success.\n",
        "\n",
        "6. Collect more data"
      ]
    },
    {
      "cell_type": "markdown",
      "metadata": {
        "id": "w3UMNBZHZ2vb"
      },
      "source": [
        "## (6.2) Comparing the performances of the CNN, the VGG, and the VGG trained on the augmented dataset"
      ]
    },
    {
      "cell_type": "code",
      "execution_count": null,
      "metadata": {
        "id": "oMlzMPEfyC5a"
      },
      "outputs": [],
      "source": [
        "test_accuracy_aug = res_aug[-1]\n",
        "\n",
        "\n",
        "print(f\"test_accuracy_aug = {round(test_accuracy_aug,2)*100} %\")\n",
        "\n",
        "print(f\"test_accuracy_vgg = {round(test_accuracy_vgg,2)*100} %\")\n",
        "\n",
        "print(f\"test_accuracy = {round(test_accuracy,2)*100} %\")\n",
        "\n",
        "print(f'Chance level: {1./num_classes*100:.1f}%')\n",
        "\n"
      ]
    },
    {
      "cell_type": "markdown",
      "metadata": {
        "id": "u8gaSAxLZ2vc"
      },
      "source": [
        "---\n",
        "\n",
        "🏁 **Congratulations** 🏁 \n",
        "\n",
        "1. Download this notebook from your `Google Drive` or directly from `Google Colab` \n",
        "2. Drag-and-drop it from your `Downloads` folder to your local challenge folder  \n",
        "\n",
        "\n",
        "💾 Don't forget to push your code\n",
        "\n",
        "3. Follow the usual procedure on your terminal inside the challenge folder:\n",
        "      * *git add cifar_classification.ipynb*\n",
        "      * *git commit -m \"I am the god of Transfer Learning\"*\n",
        "      * *git push origin master*\n",
        "\n",
        "*Hint*: To find where this Colab notebook has been saved, click on `File` $\\rightarrow$ `Locate in Drive`.\n",
        "\n",
        "🚀 If you have time, move on to the **Autoencoders** challenge!"
      ]
    }
  ],
  "metadata": {
    "kernelspec": {
      "display_name": "Python 3",
      "language": "python",
      "name": "python3"
    },
    "colab": {
      "provenance": []
    },
    "accelerator": "GPU",
    "gpuClass": "standard"
  },
  "nbformat": 4,
  "nbformat_minor": 0
}